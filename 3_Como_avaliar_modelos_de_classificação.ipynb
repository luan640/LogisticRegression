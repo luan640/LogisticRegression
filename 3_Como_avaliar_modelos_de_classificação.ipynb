{
  "cells": [
    {
      "cell_type": "markdown",
      "metadata": {
        "id": "view-in-github",
        "colab_type": "text"
      },
      "source": [
        "<a href=\"https://colab.research.google.com/github/luan640/LogisticRegression/blob/main/3_Como_avaliar_modelos_de_classifica%C3%A7%C3%A3o.ipynb\" target=\"_parent\"><img src=\"https://colab.research.google.com/assets/colab-badge.svg\" alt=\"Open In Colab\"/></a>"
      ]
    },
    {
      "cell_type": "markdown",
      "metadata": {
        "id": "cXA7qsQyPKon"
      },
      "source": [
        "# Aula Avaliando modelos de Classificação"
      ]
    },
    {
      "cell_type": "code",
      "execution_count": null,
      "metadata": {
        "id": "Rz5I9FKnPKoq"
      },
      "outputs": [],
      "source": [
        "from sklearn import metrics\n",
        "import numpy as np\n",
        "import random"
      ]
    },
    {
      "cell_type": "markdown",
      "metadata": {
        "id": "teeYFNTyPKor"
      },
      "source": [
        "## Leitura dos dados"
      ]
    },
    {
      "cell_type": "code",
      "execution_count": null,
      "metadata": {
        "id": "Mr6S1RG7PKor"
      },
      "outputs": [],
      "source": [
        "y_test = random.choices([0,1], k=50)\n",
        "ỹ_test = random.choices([0,1], k=50)"
      ]
    },
    {
      "cell_type": "code",
      "execution_count": null,
      "metadata": {
        "id": "ldcuQoGJPKos",
        "outputId": "7c2a1345-7ac0-43e6-fcfd-ebb3f87ff958"
      },
      "outputs": [
        {
          "data": {
            "text/plain": [
              "[0, 0, 1, 1, 1]"
            ]
          },
          "execution_count": 3,
          "metadata": {},
          "output_type": "execute_result"
        }
      ],
      "source": [
        "ỹ_test[:5]"
      ]
    },
    {
      "cell_type": "markdown",
      "metadata": {
        "id": "xA2eVaGmPKot"
      },
      "source": [
        "## Acurácia\n",
        "- É a média do número de acertos em relação ao número de entradas:"
      ]
    },
    {
      "cell_type": "code",
      "execution_count": null,
      "metadata": {
        "id": "WDPb8qoyPKou",
        "outputId": "b3389232-7a34-41bf-c6e8-3c46038b7181"
      },
      "outputs": [
        {
          "data": {
            "text/plain": [
              "0.48"
            ]
          },
          "execution_count": 4,
          "metadata": {},
          "output_type": "execute_result"
        }
      ],
      "source": [
        "metrics.accuracy_score(y_test, ỹ_test)"
      ]
    },
    {
      "cell_type": "markdown",
      "metadata": {
        "id": "CJ9oybpvPKov"
      },
      "source": [
        "## Matriz de Confusão\n",
        "- tabela que permite a visualização do desempenho de um algoritmo de classificação"
      ]
    },
    {
      "cell_type": "code",
      "execution_count": null,
      "metadata": {
        "id": "VBLfva1UPKov",
        "outputId": "43b3771a-fff9-4443-99c2-e4a9449c1565"
      },
      "outputs": [
        {
          "data": {
            "text/plain": [
              "array([[14, 12],\n",
              "       [14, 10]])"
            ]
          },
          "execution_count": 5,
          "metadata": {},
          "output_type": "execute_result"
        }
      ],
      "source": [
        "metrics.confusion_matrix(y_test, ỹ_test)"
      ]
    },
    {
      "cell_type": "markdown",
      "metadata": {
        "id": "vFZfYIHpPKow"
      },
      "source": [
        "## Precision\n",
        "- O número de acertos positivos em relação à soma dos acertos mais o total de **amostras positivas**"
      ]
    },
    {
      "cell_type": "code",
      "execution_count": null,
      "metadata": {
        "id": "pWJTLo-FPKox",
        "outputId": "67b2d792-13a0-4ce8-abcd-2c5d5f081767"
      },
      "outputs": [
        {
          "data": {
            "text/plain": [
              "0.45454545454545453"
            ]
          },
          "execution_count": 6,
          "metadata": {},
          "output_type": "execute_result"
        }
      ],
      "source": [
        "metrics.precision_score(y_test, ỹ_test)"
      ]
    },
    {
      "cell_type": "markdown",
      "metadata": {
        "id": "Oszk1XfyPKox"
      },
      "source": [
        "## Recall\n",
        "- O número de acertos positivos em relação à soma dos acertos mais o total de **amostras negativas**"
      ]
    },
    {
      "cell_type": "code",
      "execution_count": null,
      "metadata": {
        "id": "DzoxcyyDPKox",
        "outputId": "aac6c97c-2270-41b9-d01e-8ede31805dce"
      },
      "outputs": [
        {
          "data": {
            "text/plain": [
              "0.4166666666666667"
            ]
          },
          "execution_count": 7,
          "metadata": {},
          "output_type": "execute_result"
        }
      ],
      "source": [
        "metrics.recall_score(y_test, ỹ_test)"
      ]
    },
    {
      "cell_type": "markdown",
      "metadata": {
        "id": "O6ePvam-PKoy"
      },
      "source": [
        "## F1-Score\n",
        "- Faz uma **média harmônica** entre precision e recall"
      ]
    },
    {
      "cell_type": "code",
      "execution_count": null,
      "metadata": {
        "id": "oHkmldlYPKoy",
        "outputId": "4d8ec339-b44f-42f9-dad4-ca64581f324c"
      },
      "outputs": [
        {
          "data": {
            "text/plain": [
              "0.43478260869565216"
            ]
          },
          "execution_count": 8,
          "metadata": {},
          "output_type": "execute_result"
        }
      ],
      "source": [
        "metrics.f1_score(y_test, ỹ_test)"
      ]
    },
    {
      "cell_type": "markdown",
      "metadata": {
        "id": "Z-eXdfSdPKoy"
      },
      "source": [
        "### Relatório de Classificação"
      ]
    },
    {
      "cell_type": "code",
      "execution_count": null,
      "metadata": {
        "id": "9WiKLyJdPKoz",
        "outputId": "43a1103a-b30f-4771-ecdc-c50b32e87e99"
      },
      "outputs": [
        {
          "name": "stdout",
          "output_type": "stream",
          "text": [
            "              precision    recall  f1-score   support\n",
            "\n",
            "           0       0.50      0.54      0.52        26\n",
            "           1       0.45      0.42      0.43        24\n",
            "\n",
            "    accuracy                           0.48        50\n",
            "   macro avg       0.48      0.48      0.48        50\n",
            "weighted avg       0.48      0.48      0.48        50\n",
            "\n"
          ]
        }
      ],
      "source": [
        "print(metrics.classification_report(y_test, ỹ_test))"
      ]
    },
    {
      "cell_type": "code",
      "execution_count": null,
      "metadata": {
        "id": "4Khqr3mhPKoz"
      },
      "outputs": [],
      "source": []
    }
  ],
  "metadata": {
    "kernelspec": {
      "display_name": "Python 3",
      "language": "python",
      "name": "python3"
    },
    "language_info": {
      "codemirror_mode": {
        "name": "ipython",
        "version": 3
      },
      "file_extension": ".py",
      "mimetype": "text/x-python",
      "name": "python",
      "nbconvert_exporter": "python",
      "pygments_lexer": "ipython3",
      "version": "3.8.0"
    },
    "colab": {
      "provenance": [],
      "include_colab_link": true
    }
  },
  "nbformat": 4,
  "nbformat_minor": 0
}